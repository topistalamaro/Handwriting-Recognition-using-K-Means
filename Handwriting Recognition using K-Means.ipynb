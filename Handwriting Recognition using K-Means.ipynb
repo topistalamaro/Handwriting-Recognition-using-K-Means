{
 "cells": [
  {
   "cell_type": "code",
   "execution_count": 1,
   "metadata": {},
   "outputs": [
    {
     "data": {
      "text/plain": [
       "<Figure size 432x288 with 0 Axes>"
      ]
     },
     "metadata": {},
     "output_type": "display_data"
    },
    {
     "data": {
      "image/png": "[encoded data removed]",
      "text/plain": [
       "<Figure size 288x288 with 1 Axes>"
      ]
     },
     "metadata": {
      "needs_background": "light"
     },
     "output_type": "display_data"
    },
    {
     "data": {
      "image/png": "[encoded data removed]",
      "text/plain": [
       "<Figure size 432x432 with 1 Axes>"
      ]
     },
     "metadata": {},
     "output_type": "display_data"
    },
    {
     "data": {
      "image/png": "[encoded data removed]",
      "text/plain": [
       "<Figure size 576x216 with 10 Axes>"
      ]
     },
     "metadata": {
      "needs_background": "light"
     },
     "output_type": "display_data"
    },
    {
     "name": "stdout",
     "output_type": "stream",
     "text": [
      "6431"
     ]
    }
   ],
   "source": [
    "import numpy as np\n",
    "from matplotlib import pyplot as plt\n",
    "from sklearn import datasets\n",
    "from sklearn.cluster import KMeans\n",
    "\n",
    "digits = datasets.load_digits()\n",
    "# print(digits.DESCR)\n",
    "# print(digits.data)\n",
    "# print(digits.target)\n",
    "\n",
    "plt.gray() \n",
    "plt.matshow(digits.images[100])\n",
    "# plt.show()\n",
    "\n",
    "# print(digits.target[100])\n",
    "\n",
    "#visualize more than one image\n",
    "# Figure size (width, height)\n",
    "fig = plt.figure(figsize=(6, 6))\n",
    "\n",
    "# Adjust the subplots \n",
    " \n",
    "fig.subplots_adjust(left=0, right=1, bottom=0, top=1, hspace=0.05, wspace=0.05)\n",
    " \n",
    "# For each of the 64 images\n",
    " \n",
    "for i in range(64):\n",
    " \n",
    "    # Initialize the subplots: add a subplot in the grid of 8 by 8, at the i+1-th position\n",
    " \n",
    "    ax = fig.add_subplot(8, 8, i+1, xticks=[], yticks=[])\n",
    " \n",
    "    # Display an image at the i-th position\n",
    " \n",
    "    ax.imshow(digits.images[i], cmap=plt.cm.binary, interpolation='nearest')\n",
    " \n",
    "    # Label the image with the target value\n",
    " \n",
    "    ax.text(0, 7, str(digits.target[i]))\n",
    " \n",
    "    plt.show()\n",
    "\n",
    "model = KMeans(n_clusters=10, random_state=42)\n",
    "model.fit(digits.data)\n",
    "fig = plt.figure(figsize=(8, 3))\n",
    " \n",
    "fig.suptitle('Cluser Center Images', fontsize=14, fontweight='bold')\n",
    "\n",
    "for i in range(10):\n",
    "    \n",
    " \n",
    "  # Initialize subplots in a grid of 2X5, at i+1th position\n",
    "    ax = fig.add_subplot(2, 5, 1 + i)\n",
    " \n",
    "  # Display images\n",
    "    ax.imshow(model.cluster_centers_[i].reshape((8, 8)), cmap=plt.cm.binary)\n",
    "\n",
    "plt.show()\n",
    "\n",
    "new_samples = np.array([\n",
    "[0.00,0.00,2.44,3.81,2.21,0.00,0.00,0.00,0.00,3.96,7.62,7.63,7.62,4.19,0.00,0.00,0.00,6.79,5.41,0.54,4.96,7.62,1.07,0.00,0.00,3.66,1.83,0.00,1.91,7.62,1.53,0.00,0.00,0.00,0.00,0.00,4.12,7.62,1.00,0.00,0.00,0.00,0.00,2.60,7.32,5.26,0.00,0.00,0.00,0.00,1.37,7.62,7.62,7.63,6.41,7.24,0.00,0.00,0.00,1.76,2.36,3.74,5.34,4.80],\n",
    "[0.00,0.00,0.00,0.00,0.00,0.00,0.00,0.00,0.00,0.00,0.38,4.12,4.35,1.83,0.00,0.00,0.00,0.23,6.25,7.62,6.63,7.63,3.51,0.00,0.00,2.75,7.62,3.28,0.23,5.42,7.47,0.53,0.00,3.81,7.17,0.15,0.00,5.42,7.55,0.46,0.00,2.82,7.62,5.49,4.35,7.62,4.20,0.00,0.00,0.00,3.81,6.63,7.62,6.25,0.46,0.00,0.00,0.00,0.00,0.00,0.00,0.00,0.00,0.00],\n",
    "[0.00,2.06,5.34,4.19,0.08,0.00,0.00,0.00,0.00,3.66,6.94,7.62,3.05,0.00,0.00,0.00,0.00,0.00,1.07,7.47,3.81,0.00,0.00,0.00,0.00,0.69,6.64,7.62,2.06,0.00,0.00,0.00,0.00,1.60,6.86,7.63,6.41,0.23,0.00,0.00,0.00,0.00,0.00,3.74,7.62,2.14,0.00,0.00,0.92,4.58,4.88,7.17,7.17,0.84,0.00,0.00,1.37,6.10,6.10,5.26,1.83,0.00,0.00,0.00],\n",
    "[0.00,0.00,0.00,0.00,0.00,0.00,0.00,0.00,0.00,0.00,1.98,6.64,6.86,4.88,0.08,0.00,0.00,0.00,4.73,6.94,6.10,7.62,3.58,0.00,0.00,0.00,5.56,5.95,2.21,7.62,5.80,0.00,0.00,0.00,6.10,7.62,7.62,7.62,6.10,0.00,0.00,0.00,1.38,2.29,2.29,7.02,6.10,0.00,0.00,0.00,0.00,0.00,0.00,6.10,4.96,0.00,0.00,0.00,0.00,0.00,0.00,5.04,3.66,0.00]\n",
    "])\n",
    "new_labels = model.predict(new_samples)\n",
    "\n",
    "for i in range(len(new_labels)):\n",
    "    \n",
    "    if new_labels[i] == 0:\n",
    "        print(0, end='')\n",
    "    elif new_labels[i] == 1:\n",
    "        print(9, end='')\n",
    "    elif new_labels[i] == 2:\n",
    "        print(2, end='')\n",
    "    elif new_labels[i] == 3:\n",
    "        print(1, end='')\n",
    "    elif new_labels[i] == 4:\n",
    "        print(6, end='')\n",
    "    elif new_labels[i] == 5:\n",
    "        print(8, end='')\n",
    "    elif new_labels[i] == 6:\n",
    "        print(4, end='')\n",
    "    elif new_labels[i] == 7:\n",
    "        print(5, end='')\n",
    "    elif new_labels[i] == 8:\n",
    "        print(7, end='')\n",
    "    elif new_labels[i] == 9:\n",
    "        print(3, end='')"
   ]
  }
 ],
 "metadata": {
  "kernelspec": {
   "display_name": "Python 3",
   "language": "python",
   "name": "python3"
  },
  "language_info": {
   "codemirror_mode": {
    "name": "ipython",
    "version": 3
   },
   "file_extension": ".py",
   "mimetype": "text/x-python",
   "name": "python",
   "nbconvert_exporter": "python",
   "pygments_lexer": "ipython3",
   "version": "3.8.5"
  }
 },
 "nbformat": 4,
 "nbformat_minor": 4
}
